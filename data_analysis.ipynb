{
 "cells": [
  {
   "cell_type": "code",
   "execution_count": 1,
   "id": "43eabb78",
   "metadata": {},
   "outputs": [],
   "source": [
    "import pandas as pd"
   ]
  },
  {
   "cell_type": "markdown",
   "id": "2fef1807",
   "metadata": {},
   "source": [
    "LEYENDO EL ARCHIVO \".csv\""
   ]
  },
  {
   "cell_type": "code",
   "execution_count": 2,
   "id": "19c432c6",
   "metadata": {},
   "outputs": [],
   "source": [
    "air_pollution = pd.read_csv('Air Pollution.csv')"
   ]
  },
  {
   "cell_type": "markdown",
   "id": "7cf35b93",
   "metadata": {},
   "source": [
    "Realizando un filtrado, eliminando las filas que contengan alguna casilla con valor \"NaN\""
   ]
  },
  {
   "cell_type": "code",
   "execution_count": 3,
   "id": "75ea222f",
   "metadata": {},
   "outputs": [],
   "source": [
    "air_pollution_filtrada=air_pollution.dropna()\n",
    "air_pollution_filtrada.reset_index(inplace=True, drop=True)"
   ]
  },
  {
   "cell_type": "markdown",
   "id": "23dbe837",
   "metadata": {},
   "source": [
    "El archivo \".csv\" contiene datos que actualizados en los años 2016, 2018 y 2022\n",
    "\n",
    "Solo se usaran los datos actualizados en el año 2020"
   ]
  },
  {
   "cell_type": "code",
   "execution_count": 4,
   "id": "9b7c24f7",
   "metadata": {},
   "outputs": [],
   "source": [
    "air_pollution_2022=air_pollution_filtrada[air_pollution_filtrada[\"Updated Year\"]==2022]\n",
    "air_pollution_2022=air_pollution_2022[['Country Name','City','Year','PM2.5 (μg/m3)','PM10 (μg/m3)','NO2 (μg/m3)']]\n",
    "air_pollution_2022.reset_index(inplace=True, drop=True)"
   ]
  },
  {
   "cell_type": "markdown",
   "id": "1af25e4a",
   "metadata": {},
   "source": [
    "Obteniendo el valor promedio de contaminacion en el aire de los años 2010 al 2021 en los paises que se encuentras en la estadistica"
   ]
  },
  {
   "cell_type": "code",
   "execution_count": 5,
   "id": "75d3b64b",
   "metadata": {},
   "outputs": [],
   "source": [
    "promedios_año=air_pollution_2022.groupby(\"Year\").mean()\n",
    "promedios_año.reset_index(inplace=True, drop=False)"
   ]
  },
  {
   "cell_type": "markdown",
   "id": "c6bef7bd",
   "metadata": {},
   "source": [
    "Obteniendo los valores promedios de cada pais del año 2010 al 2021"
   ]
  },
  {
   "cell_type": "code",
   "execution_count": 6,
   "id": "b1e3bb17",
   "metadata": {},
   "outputs": [],
   "source": [
    "p_paises=air_pollution_2022.groupby('Country Name').mean()\n",
    "p_paises=p_paises[['PM2.5 (μg/m3)','PM10 (μg/m3)','NO2 (μg/m3)']]\n",
    "p_paises.reset_index(inplace=True, drop=False)"
   ]
  },
  {
   "cell_type": "markdown",
   "id": "e24f4461",
   "metadata": {},
   "source": [
    "Se quiere pasar el promedio por cada pais al archivo .txt y se hace una previsualización de como se pasaran los datos"
   ]
  },
  {
   "cell_type": "code",
   "execution_count": 7,
   "id": "fd69f3d5",
   "metadata": {},
   "outputs": [
    {
     "name": "stdout",
     "output_type": "stream",
     "text": [
      "Australia   |   8.68551724137931   |   20.660689655172412   |   8.453793103448275\n",
      "Austria   |   18.35727272727273   |   25.29   |   27.486363636363635\n",
      "Bahrain   |   40.724999999999994   |   109.865   |   51.625\n",
      "Bangladesh   |   60.806666666666665   |   134.19933333333333   |   32.13533333333333\n",
      "Belgium   |   15.861052631578948   |   23.61157894736842   |   25.269473684210528\n",
      "Brazil   |   15.4225   |   30.032500000000002   |   24.50625\n",
      "Bulgaria   |   22.967142857142857   |   43.205714285714286   |   25.19142857142857\n",
      "Canada   |   6.92741935483871   |   13.833225806451612   |   13.583387096774192\n",
      "Chile   |   16.56090909090909   |   39.730909090909094   |   16.46\n",
      "Costa Rica   |   22.0   |   21.75   |   40.71\n",
      "Croatia   |   10.94   |   24.0   |   11.76\n",
      "Cyprus   |   16.448   |   37.746   |   17.716\n",
      "Czechia   |   20.25725888324873   |   26.856903553299496   |   18.07213197969543\n",
      "Denmark   |   13.969999999999999   |   22.03   |   33.57\n",
      "Estonia   |   6.308421052631579   |   12.625526315789473   |   8.793684210526317\n",
      "Finland   |   8.703   |   15.841   |   20.991999999999997\n",
      "France   |   17.749333333333333   |   25.6655   |   26.910500000000003\n",
      "Germany   |   17.42128205128205   |   23.71807692307692   |   29.848846153846154\n",
      "Greece   |   19.69   |   29.51   |   21.04\n",
      "Hungary   |   21.6425   |   31.0925   |   27.6075\n",
      "Iceland   |   7.735   |   15.02   |   7.94\n",
      "India   |   40.65872235872236   |   91.8941031941032   |   21.043046683046683\n",
      "Ireland   |   11.16   |   15.81   |   28.89\n",
      "Italy   |   19.99142857142857   |   28.841714285714286   |   31.876857142857144\n",
      "Jordan   |   26.83   |   59.13   |   27.04\n",
      "Kuwait   |   45.052   |   119.756   |   28.056\n",
      "Latvia   |   27.47   |   38.97   |   41.66\n",
      "Lebanon   |   17.0   |   49.5   |   53.0\n",
      "Lithuania   |   15.529333333333334   |   27.928   |   19.557333333333336\n",
      "Luxembourg   |   14.073333333333332   |   19.126666666666665   |   30.723333333333333\n",
      "Malta   |   13.290000000000001   |   34.476   |   17.894\n",
      "Mexico   |   23.53833333333333   |   53.72833333333333   |   61.73\n",
      "Netherlands   |   17.07125   |   25.585625   |   29.660625\n",
      "Norway   |   5.69825   |   11.13225   |   16.767500000000002\n",
      "Poland   |   27.68962962962963   |   35.683703703703706   |   20.660370370370373\n",
      "Portugal   |   8.4325   |   21.978333333333335   |   17.5725\n",
      "Qatar   |   40.0   |   159.0   |   35.2\n",
      "Republic of Korea   |   23.274509803921568   |   41.372549019607845   |   34.669411764705885\n",
      "Romania   |   16.279   |   27.915   |   27.323\n",
      "Senegal   |   29.856   |   136.472   |   22.380000000000003\n",
      "Singapore   |   15.0   |   29.0   |   26.0\n",
      "Slovakia   |   25.08   |   39.913333333333334   |   26.703333333333333\n",
      "Slovenia   |   15.197999999999999   |   19.848   |   14.856\n",
      "South Africa   |   22.562564102564103   |   44.94692307692308   |   21.407307692307693\n",
      "Spain   |   9.84483870967742   |   21.368709677419357   |   14.578225806451613\n",
      "Sweden   |   6.150714285714286   |   14.293571428571429   |   10.608571428571429\n",
      "Thailand   |   25.908749999999998   |   45.69208333333333   |   20.014583333333334\n",
      "Trinidad and Tobago   |   12.65   |   28.25   |   12.4\n",
      "Turkey   |   18.5875   |   33.68625   |   40.66\n",
      "United Kingdom   |   12.459375   |   18.2496875   |   32.685625\n"
     ]
    }
   ],
   "source": [
    "for i in range (len(p_paises)):\n",
    "    print(f\"{p_paises['Country Name'].iloc[i]}   |   {p_paises['PM2.5 (μg/m3)'].iloc[i]}   |   {p_paises['PM10 (μg/m3)'].iloc[i]}   |   {p_paises['NO2 (μg/m3)'].iloc[i]}\")"
   ]
  },
  {
   "cell_type": "markdown",
   "id": "a4a3de54",
   "metadata": {},
   "source": [
    "Al estar los datos muy disparejos, entonces se deben organizar y alinear todo para su facil visualizacion\n",
    "\n",
    "Se alinean todos los datos de cada columna"
   ]
  },
  {
   "cell_type": "code",
   "execution_count": 8,
   "id": "350651f7",
   "metadata": {},
   "outputs": [
    {
     "name": "stderr",
     "output_type": "stream",
     "text": [
      "C:\\Users\\alexf\\AppData\\Local\\Temp\\ipykernel_2828\\3968106320.py:17: SettingWithCopyWarning: \n",
      "A value is trying to be set on a copy of a slice from a DataFrame\n",
      "\n",
      "See the caveats in the documentation: https://pandas.pydata.org/pandas-docs/stable/user_guide/indexing.html#returning-a-view-versus-a-copy\n",
      "  p_paises['PM2.5 (μg/m3)'].iloc[f] = DATO\n",
      "C:\\Users\\alexf\\AppData\\Local\\Temp\\ipykernel_2828\\3968106320.py:33: SettingWithCopyWarning: \n",
      "A value is trying to be set on a copy of a slice from a DataFrame\n",
      "\n",
      "See the caveats in the documentation: https://pandas.pydata.org/pandas-docs/stable/user_guide/indexing.html#returning-a-view-versus-a-copy\n",
      "  p_paises['NO2 (μg/m3)'].iloc[f] = DATO\n",
      "C:\\Users\\alexf\\AppData\\Local\\Temp\\ipykernel_2828\\3968106320.py:49: SettingWithCopyWarning: \n",
      "A value is trying to be set on a copy of a slice from a DataFrame\n",
      "\n",
      "See the caveats in the documentation: https://pandas.pydata.org/pandas-docs/stable/user_guide/indexing.html#returning-a-view-versus-a-copy\n",
      "  p_paises['PM10 (μg/m3)'].iloc[f] = DATO\n"
     ]
    }
   ],
   "source": [
    "for f in range (len(p_paises)):  \n",
    "##-------------------------------------------------------------------------------    \n",
    "    if p_paises['PM2.5 (μg/m3)'].iloc[f] < 10 :\n",
    "        p_paises['PM2.5 (μg/m3)'].iloc[f]=round(p_paises['PM2.5 (μg/m3)'].iloc[f],4)\n",
    "\n",
    "    elif 10<= p_paises['PM2.5 (μg/m3)'].iloc[f] < 100 :\n",
    "        p_paises['PM2.5 (μg/m3)'].iloc[f]=round(p_paises['PM2.5 (μg/m3)'].iloc[f],3)\n",
    "        \n",
    "    else:\n",
    "        p_paises['PM2.5 (μg/m3)'].iloc[f]=round(p_paises['PM2.5 (μg/m3)'].iloc[f],2)\n",
    "        \n",
    "    DATO=str(p_paises['PM2.5 (μg/m3)'].iloc[f])\n",
    "    \n",
    "    for i in range (8-(len(str(p_paises['PM2.5 (μg/m3)'].iloc[f])))):\n",
    "        DATO=(DATO+' ') \n",
    "        \n",
    "    p_paises['PM2.5 (μg/m3)'].iloc[f] = DATO\n",
    "##---------------------------------------------------------------------------------------------------------------\n",
    "    if p_paises['NO2 (μg/m3)'].iloc[f] < 10 :\n",
    "        p_paises['NO2 (μg/m3)'].iloc[f]=round(p_paises['NO2 (μg/m3)'].iloc[f],4)\n",
    "        \n",
    "    elif 10<= p_paises['NO2 (μg/m3)'].iloc[f] < 100 :\n",
    "        p_paises['NO2 (μg/m3)'].iloc[f]=round(p_paises['NO2 (μg/m3)'].iloc[f],3)\n",
    "       \n",
    "    else:\n",
    "        p_paises['NO2 (μg/m3)'].iloc[f]=round(p_paises['NO2 (μg/m3)'].iloc[f],2)\n",
    "    \n",
    "    DATO=str(p_paises['NO2 (μg/m3)'].iloc[f])\n",
    "    \n",
    "    for i in range (8-(len(str(p_paises['NO2 (μg/m3)'].iloc[f])))):\n",
    "        DATO=(DATO+' ') \n",
    "        \n",
    "    p_paises['NO2 (μg/m3)'].iloc[f] = DATO\n",
    "##---------------------------------------------------------------------------------------------------------------\n",
    "    if p_paises['PM10 (μg/m3)'].iloc[f] < 10 :\n",
    "        p_paises['PM10 (μg/m3)'].iloc[f]=round(p_paises['PM10 (μg/m3)'].iloc[f],4)\n",
    "        \n",
    "    elif 10<= p_paises['PM10 (μg/m3)'].iloc[f] < 100 :\n",
    "        p_paises['PM10 (μg/m3)'].iloc[f]=round(p_paises['PM10 (μg/m3)'].iloc[f],3)\n",
    "       \n",
    "    else:\n",
    "        p_paises['PM10 (μg/m3)'].iloc[f]=round(p_paises['PM10 (μg/m3)'].iloc[f],2)\n",
    "        \n",
    "    DATO=str(p_paises['PM10 (μg/m3)'].iloc[f])\n",
    "    \n",
    "    for i in range (8-(len(str(p_paises['PM10 (μg/m3)'].iloc[f])))):\n",
    "        DATO=(DATO+' ') \n",
    "        \n",
    "    p_paises['PM10 (μg/m3)'].iloc[f] = DATO\n",
    "\n",
    "##---------------------------------------------------------------------------------------------------------------\n",
    "    nombre=p_paises['Country Name'].iloc[f]\n",
    "    \n",
    "    for i in range (20-(len(p_paises['Country Name'].iloc[f]))):\n",
    "        nombre=(nombre+'-')\n",
    "        \n",
    "    p_paises['Country Name'].iloc[f] = nombre\n",
    "    "
   ]
  },
  {
   "cell_type": "markdown",
   "id": "8f4b531a",
   "metadata": {},
   "source": [
    "Y se vuelve a visualizar como quedarian los datos en el archivo .txt"
   ]
  },
  {
   "cell_type": "code",
   "execution_count": 9,
   "id": "e63df285",
   "metadata": {
    "scrolled": true
   },
   "outputs": [
    {
     "name": "stdout",
     "output_type": "stream",
     "text": [
      "Country Name           | PM2.5 (μg/m3) | PM10 (μg/m3) | NO2 (μg/m3) |\n",
      "Australia-----------   |  8.6855       |  20.661      |  8.4538     |\n",
      "Austria-------------   |  18.357       |  25.29       |  27.486     |\n",
      "Bahrain-------------   |  40.725       |  109.86      |  51.625     |\n",
      "Bangladesh----------   |  60.807       |  134.2       |  32.135     |\n",
      "Belgium-------------   |  15.861       |  23.612      |  25.269     |\n",
      "Brazil--------------   |  15.422       |  30.033      |  24.506     |\n",
      "Bulgaria------------   |  22.967       |  43.206      |  25.191     |\n",
      "Canada--------------   |  6.9274       |  13.833      |  13.583     |\n",
      "Chile---------------   |  16.561       |  39.731      |  16.46      |\n",
      "Costa Rica----------   |  22.0         |  21.75       |  40.71      |\n",
      "Croatia-------------   |  10.94        |  24.0        |  11.76      |\n",
      "Cyprus--------------   |  16.448       |  37.746      |  17.716     |\n",
      "Czechia-------------   |  20.257       |  26.857      |  18.072     |\n",
      "Denmark-------------   |  13.97        |  22.03       |  33.57      |\n",
      "Estonia-------------   |  6.3084       |  12.626      |  8.7937     |\n",
      "Finland-------------   |  8.703        |  15.841      |  20.992     |\n",
      "France--------------   |  17.749       |  25.666      |  26.911     |\n",
      "Germany-------------   |  17.421       |  23.718      |  29.849     |\n",
      "Greece--------------   |  19.69        |  29.51       |  21.04      |\n",
      "Hungary-------------   |  21.642       |  31.093      |  27.608     |\n",
      "Iceland-------------   |  7.735        |  15.02       |  7.94       |\n",
      "India---------------   |  40.659       |  91.894      |  21.043     |\n",
      "Ireland-------------   |  11.16        |  15.81       |  28.89      |\n",
      "Italy---------------   |  19.991       |  28.842      |  31.877     |\n",
      "Jordan--------------   |  26.83        |  59.13       |  27.04      |\n",
      "Kuwait--------------   |  45.052       |  119.76      |  28.056     |\n",
      "Latvia--------------   |  27.47        |  38.97       |  41.66      |\n",
      "Lebanon-------------   |  17.0         |  49.5        |  53.0       |\n",
      "Lithuania-----------   |  15.529       |  27.928      |  19.557     |\n",
      "Luxembourg----------   |  14.073       |  19.127      |  30.723     |\n",
      "Malta---------------   |  13.29        |  34.476      |  17.894     |\n",
      "Mexico--------------   |  23.538       |  53.728      |  61.73      |\n",
      "Netherlands---------   |  17.071       |  25.586      |  29.661     |\n",
      "Norway--------------   |  5.6982       |  11.132      |  16.768     |\n",
      "Poland--------------   |  27.69        |  35.684      |  20.66      |\n",
      "Portugal------------   |  8.4325       |  21.978      |  17.573     |\n",
      "Qatar---------------   |  40.0         |  159.0       |  35.2       |\n",
      "Republic of Korea---   |  23.275       |  41.373      |  34.669     |\n",
      "Romania-------------   |  16.279       |  27.915      |  27.323     |\n",
      "Senegal-------------   |  29.856       |  136.47      |  22.38      |\n",
      "Singapore-----------   |  15.0         |  29.0        |  26.0       |\n",
      "Slovakia------------   |  25.08        |  39.913      |  26.703     |\n",
      "Slovenia------------   |  15.198       |  19.848      |  14.856     |\n",
      "South Africa--------   |  22.563       |  44.947      |  21.407     |\n",
      "Spain---------------   |  9.8448       |  21.369      |  14.578     |\n",
      "Sweden--------------   |  6.1507       |  14.294      |  10.609     |\n",
      "Thailand------------   |  25.909       |  45.692      |  20.015     |\n",
      "Trinidad and Tobago-   |  12.65        |  28.25       |  12.4       |\n",
      "Turkey--------------   |  18.587       |  33.686      |  40.66      |\n",
      "United Kingdom------   |  12.459       |  18.25       |  32.686     |\n"
     ]
    }
   ],
   "source": [
    "print(\"Country Name           | PM2.5 (μg/m3) | PM10 (μg/m3) | NO2 (μg/m3) |\")\n",
    "for i in range (len(p_paises)):\n",
    "    print(f\"{p_paises['Country Name'].iloc[i]}   |  {p_paises['PM2.5 (μg/m3)'].iloc[i]}     |  {p_paises['PM10 (μg/m3)'].iloc[i]}    |  {p_paises['NO2 (μg/m3)'].iloc[i]}   |\")"
   ]
  },
  {
   "cell_type": "markdown",
   "id": "cf647ec0",
   "metadata": {},
   "source": [
    "Se grafican los promedios anuales con todos los datos de los paises"
   ]
  },
  {
   "cell_type": "code",
   "execution_count": 11,
   "id": "9dd7ac7b",
   "metadata": {
    "scrolled": false
   },
   "outputs": [
    {
     "data": {
      "image/png": "[encoded data removed]",
      "text/plain": [
       "<Figure size 1440x576 with 1 Axes>"
      ]
     },
     "metadata": {
      "needs_background": "light"
     },
     "output_type": "display_data"
    }
   ],
   "source": [
    "import matplotlib as mpl\n",
    "import matplotlib.pyplot as plt\n",
    "\n",
    "fig, av=plt.subplots(1,1,figsize=(20,8))\n",
    "\n",
    "av.plot(promedios_año['Year'],promedios_año['PM2.5 (μg/m3)'],marker='o',color='red'   ,label='PM2.5 (μg/m3)')\n",
    "av.plot(promedios_año['Year'],promedios_año['PM10 (μg/m3)' ],marker='o',color='blue'  ,label='PM10 (μg/m3) ')\n",
    "av.plot(promedios_año['Year'],promedios_año['NO2 (μg/m3)'  ],marker='o',color='orange',label='NO2 (μg/m3)  ')\n",
    "av.set_xlabel('AÑO')\n",
    "av.legend(fontsize=14)\n",
    "av.grid()\n",
    "av.set_title(\"\")\n",
    "plt.savefig(\"Pruebaobjetiva2\"+'.png',dpi=100,bbox_inches=\"tight\")\n",
    "plt.show()"
   ]
  },
  {
   "cell_type": "markdown",
   "id": "926ac7fc",
   "metadata": {},
   "source": [
    "Obtenido fecha y hora actual"
   ]
  },
  {
   "cell_type": "code",
   "execution_count": 12,
   "id": "ce79ec5e",
   "metadata": {},
   "outputs": [],
   "source": [
    "from datetime import date\n",
    "from datetime import datetime\n",
    "\n",
    "now = datetime.now()\n",
    "Tiempo_creacion = now.strftime('%d-%m-%Y  %H:%M:%S')"
   ]
  },
  {
   "cell_type": "markdown",
   "id": "9f79873b",
   "metadata": {},
   "source": [
    "Generando el arc"
   ]
  },
  {
   "cell_type": "code",
   "execution_count": 327,
   "id": "06688646",
   "metadata": {},
   "outputs": [],
   "source": [
    "\n",
    "file = open(\"Pruebaobjetiva2.txt\",'w')\n",
    "file.write(f\"creado el {Tiempo_creacion} por Alexander Fuentes Trujillo\\n\\n\\n\")\n",
    "\n",
    "file.write(f\"CONCEPTOS NECCESARIOS:\\n\\n\")\n",
    "\n",
    "\n",
    "file.write(f\"Material particulado:\\n\")\n",
    "file.write(f\"Este afecta mucho en salud, vegetación y infraestructura, este material es una compleja mezcla\\n\")\n",
    "file.write(f\"de contaminantes, sólidos y líquidos como los sulfatos, nitratos, amoniaco, cloruro de sodio,\\n\")\n",
    "file.write(f\"hollín, polvos minerales y el agua.\\n\")\n",
    "file.write(f\"\\nEl material particulado tiene varias clasificaciones, pero generalmente se usan las PM10 y PM2.5\\n\\n\")\n",
    "\n",
    "\n",
    "file.write(f\"PM10:\\n\")\n",
    "file.write(f\"material particulado con partículas de 10 micrones o menos,se suelen producir en demoliciones, construcciones\\n\")\n",
    "file.write(f\"y el polvo de las calles\\n\\n\")\n",
    "\n",
    "file.write(f\"PM 2.5:\\n\")\n",
    "file.write(f\"material particulado con partículas de 2.5 micrones o menos, todos los motores de combustión y cualquier otra\\n\")\n",
    "file.write(f\"combustión en el ambiente, es el tipo de contaminación mas abundante y perjudicial para la salud, estas diminutas\\n\")\n",
    "file.write(f\"partículas pueden pasar de los pulmones a la sangre\\n\\n\\n\")\n",
    "\n",
    "\n",
    "file.write(f\"       PROMEDIO DE CONTAMINACION EN EL AIRE DEL AÑO 2010 AL 2021\\n\\n\")\n",
    "\n",
    "file.write(f\"Country Name         | PM2.5 (ug/m3) | PM10 (ug/m3) | NO2(ug/m3) |\\n\")\n",
    "for i in range (len(p_paises)):\n",
    "    file.write(f\"{p_paises['Country Name'].iloc[i]} |    {p_paises['PM2.5 (μg/m3)'].iloc[i]}   |    {p_paises['PM10 (μg/m3)'].iloc[i]}  |   {p_paises['NO2 (μg/m3)'].iloc[i]} |\\n\")\n",
    "\n",
    "file.write(f\"             Datos de {len(p_paises)} paises\\n\\n\")\n",
    "\n",
    "file.write(f\"estos datos seran utilies para aquellos residentes o turistas hacias esos paises para que puedan tomar medidad contra esos\\n\")\n",
    "file.write(f\"indices de contaminacion, puesto que paises con alto indice de contaminación en el aire se puede llegar a contraer graves\\n\")\n",
    "file.write(f\"enfermedades respitarotorias\")\n",
    "\n",
    "file.close()"
   ]
  },
  {
   "cell_type": "code",
   "execution_count": null,
   "id": "1dbcfd7f",
   "metadata": {},
   "outputs": [],
   "source": []
  }
 ],
 "metadata": {
  "kernelspec": {
   "display_name": "Python 3 (ipykernel)",
   "language": "python",
   "name": "python3"
  },
  "language_info": {
   "codemirror_mode": {
    "name": "ipython",
    "version": 3
   },
   "file_extension": ".py",
   "mimetype": "text/x-python",
   "name": "python",
   "nbconvert_exporter": "python",
   "pygments_lexer": "ipython3",
   "version": "3.9.12"
  }
 },
 "nbformat": 4,
 "nbformat_minor": 5
}
